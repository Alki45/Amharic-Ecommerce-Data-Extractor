{
 "cells": [
  {
   "cell_type": "code",
   "execution_count": null,
   "id": "48620975",
   "metadata": {},
   "outputs": [],
   "source": [
    "import pandas as pd\n",
    "import re\n",
    "\n",
    "\n"
   ]
  },
  {
   "cell_type": "code",
   "execution_count": null,
   "id": "2a458869",
   "metadata": {},
   "outputs": [],
   "source": [
    "def clean_amharic_text(text):\n",
    "    if pd.isna(text):\n",
    "        return \"\"\n",
    "    \n",
    "    # Remove emojis & symbols (optional: install emoji lib for better filtering)\n",
    "    text = re.sub(r'[^\\w\\s\\u1200-\\u137F\\u1380-\\u139F\\u2D80-\\u2DDF]', ' ', text)  # Keep Amharic & numbers\n",
    "    text = re.sub(r'\\s+', ' ', text)  # Remove extra whitespaces\n",
    "    text = re.sub(r'(\\w)\\1{2,}', r'\\1', text)  # Remove letter spam e.g., 💥💥💥\n",
    "    return text.strip()"
   ]
  },
  {
   "cell_type": "code",
   "execution_count": null,
   "id": "b4003c9f",
   "metadata": {},
   "outputs": [],
   "source": [
    "def preprocess_csv(input_path, output_path):\n",
    "    df = pd.read_csv(input_path)\n",
    "\n",
    "    # Apply cleaning\n",
    "    df[\"cleaned_message\"] = df[\"Message Text\"].apply(clean_amharic_text)\n",
    "\n",
    "    # Save to new CSV\n",
    "    df.to_csv(output_path, index=False)\n",
    "    print(f\"✅ Cleaned data saved to {output_path}\")\n",
    "\n",
    "if __name__ == \"__main__\":\n",
    "    preprocess_csv(\n",
    "        input_path=\"../data/processed/telegram_data.csv\",\n",
    "        output_path=\"../data/processed/telegram_data_cleaned.csv\"\n",
    "    )"
   ]
  },
  {
   "cell_type": "code",
   "execution_count": null,
   "id": "6b5df5ae",
   "metadata": {},
   "outputs": [],
   "source": []
  }
 ],
 "metadata": {
  "kernelspec": {
   "display_name": ".venv",
   "language": "python",
   "name": "python3"
  },
  "language_info": {
   "name": "python",
   "version": "3.12.3"
  }
 },
 "nbformat": 4,
 "nbformat_minor": 5
}
